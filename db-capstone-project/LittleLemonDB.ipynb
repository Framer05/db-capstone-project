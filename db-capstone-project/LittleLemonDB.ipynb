{
 "cells": [
  {
   "cell_type": "code",
   "execution_count": 6,
   "id": "03d1fdf3-f66c-4d08-8d68-50134ec0728c",
   "metadata": {},
   "outputs": [],
   "source": [
    "import mysql.connector as connector\n",
    "from mysql.connector import Error"
   ]
  },
  {
   "cell_type": "code",
   "execution_count": 7,
   "id": "b9082f46-a10a-44d7-809d-b0038fdec498",
   "metadata": {},
   "outputs": [
    {
     "name": "stdout",
     "output_type": "stream",
     "text": [
      "Connection between MySQL and Python is established.\n",
      "\n"
     ]
    }
   ],
   "source": [
    "try:\n",
    "    connection=connector.connect(user=\"root\",password=\"1234\")\n",
    "except Error as er:\n",
    "    print(er.msg)\n",
    "\n",
    "print(\"Connection between MySQL and Python is established.\\n\")"
   ]
  },
  {
   "cell_type": "code",
   "execution_count": 8,
   "id": "6366df5a-d347-4e3e-bf1f-fe5076a3fbd2",
   "metadata": {},
   "outputs": [
    {
     "name": "stdout",
     "output_type": "stream",
     "text": [
      "Cursor is created to communicate with the MySQL using Python.\n"
     ]
    }
   ],
   "source": [
    "cursor = connection.cursor()\n",
    "print(\"Cursor is created to communicate with the MySQL using Python.\")"
   ]
  },
  {
   "cell_type": "code",
   "execution_count": 9,
   "id": "3d1f031b-d065-4c47-956f-31e90f6a1e70",
   "metadata": {},
   "outputs": [
    {
     "name": "stdout",
     "output_type": "stream",
     "text": [
      "The database LittleLemonDB is set for use.\n"
     ]
    }
   ],
   "source": [
    "cursor.execute(\"USE LittleLemonDB\")\n",
    "connection.database\n",
    "print(\"The database LittleLemonDB is set for use.\")"
   ]
  },
  {
   "cell_type": "code",
   "execution_count": 14,
   "id": "054ce47e-c62c-4a18-b48b-742272e9db08",
   "metadata": {},
   "outputs": [
    {
     "name": "stdout",
     "output_type": "stream",
     "text": [
      "('bookings',)\n",
      "('customers',)\n",
      "('menuitems',)\n",
      "('menus',)\n",
      "('orderdelivery',)\n",
      "('orders',)\n",
      "('ordersview',)\n",
      "('staffs',)\n"
     ]
    }
   ],
   "source": [
    "cursor.fetchall()\n",
    "\n",
    "show_tables_query = \"SHOW TABLES\"\n",
    "cursor.execute(show_tables_query)\n",
    "\n",
    "tables = cursor.fetchall()\n",
    "\n",
    "for table in tables:\n",
    "    print(table)\n"
   ]
  },
  {
   "cell_type": "code",
   "execution_count": 23,
   "id": "8a851489-cc3e-4a28-a23d-bb047a96303d",
   "metadata": {},
   "outputs": [],
   "source": [
    "join = \"\"\" SELECT c.FullName,\n",
    "c.Phone,\n",
    "c.Email,\n",
    "o.TotalCost\n",
    "FROM Customers AS c\n",
    "LEFT JOIN Orders AS o\n",
    "ON c.CustomerID = o.CustomerID\n",
    "WHERE o.TotalCost > 60;\n",
    "\"\"\""
   ]
  },
  {
   "cell_type": "code",
   "execution_count": 24,
   "id": "402215d2-5dae-424d-9ca8-f74eb4111856",
   "metadata": {},
   "outputs": [],
   "source": [
    "cursor.execute(join)"
   ]
  },
  {
   "cell_type": "code",
   "execution_count": null,
   "id": "c3baeb7d-286c-410c-9142-1aa67c0dbe8f",
   "metadata": {},
   "outputs": [],
   "source": []
  }
 ],
 "metadata": {
  "kernelspec": {
   "display_name": "Python 3 (ipykernel)",
   "language": "python",
   "name": "python3"
  },
  "language_info": {
   "codemirror_mode": {
    "name": "ipython",
    "version": 3
   },
   "file_extension": ".py",
   "mimetype": "text/x-python",
   "name": "python",
   "nbconvert_exporter": "python",
   "pygments_lexer": "ipython3",
   "version": "3.13.3"
  }
 },
 "nbformat": 4,
 "nbformat_minor": 5
}
